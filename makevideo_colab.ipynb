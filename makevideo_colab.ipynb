{
  "cells": [
    {
      "cell_type": "markdown",
      "metadata": {},
      "source": [
        "# 1. Clone Repository and Install Dependencies\n",
        "\n",
        "First, we'll clone the repository from GitHub and install all required packages:"
      ]
    },
    {
      "cell_type": "code",
      "execution_count": null,
      "metadata": {
        "colab": {
          "base_uri": "https://localhost:8080/"
        },
        "id": "uD1pJDCYx2Oo",
        "outputId": "c3e212c2-9a62-4a15-c4d0-f5c1c318323d"
      },
      "outputs": [],
      "source": [
        "!git clone https://github.com/lytuan123/MoneyPrinterTurbo.git\n",
        "%cd MoneyPrinterTurbo\n",
        "!pip install -q -r requirements.txt\n"
      ]
    },
    {
      "cell_type": "code",
      "execution_count": null,
      "metadata": {
        "colab": {
          "base_uri": "https://localhost:8080/"
        },
        "id": "0RgrJizvx4Ym",
        "outputId": "7107bf16-0871-42f9-e302-54bb15ac22f5"
      },
      "outputs": [],
      "source": [
        "!pip install pyngrok --quiet\n",
        "!apt-get install imagemagick\n",
        "!apt-get install ffmpeg\n",
        "\n",
        "!cp config.example.toml config.toml\n",
        "\n",
        "!apt-get update && apt-get install -y ffmpeg"
      ]
    },
    {
      "cell_type": "markdown",
      "metadata": {},
      "source": [
        "# 2. Configure ngrok for Remote Access\n",
        "\n",
        "We'll use ngrok to create a secure tunnel to expose our local Streamlit server to the internet.\n",
        "\n",
        "**Important**: You need to get your authentication token from the [ngrok dashboard](https://dashboard.ngrok.com/get-started/your-authtoken) to use this service.\n",
        "\n",
        "### 👇 Replace YOUR_AUTHTOKEN_HERE with your ngrok authtoken"
      ]
    },
    {
      "cell_type": "code",
      "execution_count": null,
      "metadata": {
        "id": "WWz_jquTj1lE"
      },
      "outputs": [],
      "source": [
        "# 👇 Replace YOUR_AUTHTOKEN_HERE with your ngrok authtoken\n",
        "NGROK_AUTH_TOKEN = \"YOUR_AUTHTOKEN_HERE\""
      ]
    },
    {
      "cell_type": "markdown",
      "metadata": {},
      "source": [
        "# 3. Launch Application and Generate Public URL\n",
        "\n",
        "Now we'll start the Streamlit server and create an ngrok tunnel to make it accessible online:"
      ]
    },
    {
      "cell_type": "code",
      "execution_count": null,
      "metadata": {
        "colab": {
          "base_uri": "https://localhost:8080/"
        },
        "id": "Ccompin62VAp",
        "outputId": "1c833972-6776-4312-c95b-86923803d196"
      },
      "outputs": [],
      "source": [
        "import torch\n",
        "import os\n",
        "import time\n",
        "from pyngrok import ngrok, conf\n",
        "\n",
        "torch.cuda.empty_cache()\n",
        "\n",
        "# Ensure no tunnels are open\n",
        "ngrok.kill()\n",
        "\n",
        "# Set the environment variable for ngrok\n",
        "conf.get_default().auth_token = NGROK_AUTH_TOKEN\n",
        "\n",
        "# Check if the Streamlit file exists\n",
        "streamlit_file = \"./webui/Main.py\"\n",
        "if not os.path.isfile(streamlit_file):\n",
        "    raise FileNotFoundError(f\"❌ File not found: {streamlit_file}\")\n",
        "\n",
        "# Set the current path for PYTHONPATH\n",
        "os.environ[\"PYTHONPATH\"] = os.getcwd()\n",
        "\n",
        "# Run Streamlit in the background and redirect logs to a file for review\n",
        "print(\"🚀 Running Streamlit...\")\n",
        "!streamlit run {streamlit_file} --server.enableCORS=True --browser.gatherUsageStats=False > log.txt 2>&1 &\n",
        "\n",
        "# Wait for Streamlit to initialize\n",
        "time.sleep(8)\n",
        "\n",
        "# Check the logs for errors (optional, can be skipped)\n",
        "with open(\"log.txt\", \"r\") as f:\n",
        "    logs = f.read()\n",
        "    if \"Traceback\" in logs:\n",
        "        print(\"⚠️ Error occurred during Streamlit execution:\")\n",
        "        print(logs.splitlines()[-20:])  # Print last 20 lines\n",
        "    else:\n",
        "        print(\"✅ Streamlit started successfully.\")\n",
        "\n",
        "# Open an ngrok tunnel\n",
        "print(\"🌐 Creating ngrok tunnel...\")\n",
        "public_url = ngrok.connect(8501)\n",
        "print(f\"\\n🔗 Access WebUI at: {public_url}\")"
      ]
    }
  ],
  "metadata": {
    "accelerator": "GPU",
    "colab": {
      "gpuType": "T4",
      "provenance": []
    },
    "kernelspec": {
      "display_name": "Python 3",
      "name": "python3"
    },
    "language_info": {
      "name": "python"
    }
  },
  "nbformat": 4,
  "nbformat_minor": 0
}
